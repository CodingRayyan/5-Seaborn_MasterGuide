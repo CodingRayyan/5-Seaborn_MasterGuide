{
 "cells": [
  {
   "cell_type": "markdown",
   "id": "aac3fe3d",
   "metadata": {},
   "source": [
    "# Seaborn\n",
    "\n",
    "## Definitions\n",
    "\n",
    "Seaborn is a Python library for statistical data visualization built on top of Matplotlib. It provides a high-level interface for drawing attractive and informative statistical graphics.\n",
    "\n",
    "## Features\n",
    "\n",
    "- **Ease of Use:** Simplifies complex visualizations with concise code.\n",
    "- **Statistical Plots:** Integrated functions for histograms, box plots, violin plots, and regression plots.\n",
    "- **Themes and Styles:** Built-in themes and color palettes for improved aesthetics.\n",
    "- **Integration with Pandas:** Directly works with Pandas DataFrames for seamless data visualization.\n",
    "- **High-Level Functions:** Includes functions for complex visualizations like pair plots, heatmaps, and facet grids.\n",
    "- **Customizability:** Allows detailed customization through Matplotlib’s interface.\n",
    "\n",
    "## Advantages in Data Analysis\n",
    "\n",
    "- **Data Exploration:** Facilitates quick exploration of data distributions, relationships, and patterns.\n",
    "- **Exploratory Data Analysis (EDA):** Essential for uncovering insights, detecting anomalies, and preparing data for further analysis.\n",
    "- **Enhanced Presentation:** Provides attractive and informative visuals that improve the presentation of data findings and insights.\n",
    "\n",
    "## Advantages in Machine Learning\n",
    "\n",
    "- **Visualizing Model Results:** Useful for displaying the results of machine learning models, such as feature importances, prediction outcomes, and decision boundaries.\n",
    "- **Model Performance Analysis:** Helps in analyzing model performance through visual metrics like confusion matrices and ROC curves.\n",
    "- **Insightful Reporting:** Aids in creating clear and informative visual reports of machine learning experiments and results.\n",
    "\n",
    "## Useful Links\n",
    "\n",
    "- [Seaborn Official Documentation](https://seaborn.pydata.org/)\n",
    "- [Seaborn GitHub Repository](https://github.com/mwaskom/seaborn)\n",
    "- [Seaborn Tutorial by W3Schools](https://www.w3schools.com/python/matplotlib_seaborn.asp)\n",
    "- [Seaborn Cheatsheet](https://datacarpentry.org/python-ecology-lesson/09-seaborn/)\n",
    "- [Matplotlib Official Documentation](https://matplotlib.org/stable/contents.html) (for reference on integration with Seaborn)"
   ]
  },
  {
   "cell_type": "markdown",
   "id": "a1b4b9ef",
   "metadata": {},
   "source": [
    "###\n",
    "## Simple Example of Seaborn Plot:\n",
    "###"
   ]
  },
  {
   "cell_type": "code",
   "execution_count": 3,
   "id": "1869739a",
   "metadata": {},
   "outputs": [
    {
     "data": {
      "image/png": "[encoded data removed]",
      "text/plain": [
       "<Figure size 640x480 with 1 Axes>"
      ]
     },
     "metadata": {},
     "output_type": "display_data"
    },
    {
     "data": {
      "text/html": [
       "<div>\n",
       "<style scoped>\n",
       "    .dataframe tbody tr th:only-of-type {\n",
       "        vertical-align: middle;\n",
       "    }\n",
       "\n",
       "    .dataframe tbody tr th {\n",
       "        vertical-align: top;\n",
       "    }\n",
       "\n",
       "    .dataframe thead th {\n",
       "        text-align: right;\n",
       "    }\n",
       "</style>\n",
       "<table border=\"1\" class=\"dataframe\">\n",
       "  <thead>\n",
       "    <tr style=\"text-align: right;\">\n",
       "      <th></th>\n",
       "      <th>sepal_length</th>\n",
       "      <th>sepal_width</th>\n",
       "      <th>petal_length</th>\n",
       "      <th>petal_width</th>\n",
       "      <th>species</th>\n",
       "    </tr>\n",
       "  </thead>\n",
       "  <tbody>\n",
       "    <tr>\n",
       "      <th>0</th>\n",
       "      <td>5.1</td>\n",
       "      <td>3.5</td>\n",
       "      <td>1.4</td>\n",
       "      <td>0.2</td>\n",
       "      <td>setosa</td>\n",
       "    </tr>\n",
       "    <tr>\n",
       "      <th>1</th>\n",
       "      <td>4.9</td>\n",
       "      <td>3.0</td>\n",
       "      <td>1.4</td>\n",
       "      <td>0.2</td>\n",
       "      <td>setosa</td>\n",
       "    </tr>\n",
       "    <tr>\n",
       "      <th>2</th>\n",
       "      <td>4.7</td>\n",
       "      <td>3.2</td>\n",
       "      <td>1.3</td>\n",
       "      <td>0.2</td>\n",
       "      <td>setosa</td>\n",
       "    </tr>\n",
       "    <tr>\n",
       "      <th>3</th>\n",
       "      <td>4.6</td>\n",
       "      <td>3.1</td>\n",
       "      <td>1.5</td>\n",
       "      <td>0.2</td>\n",
       "      <td>setosa</td>\n",
       "    </tr>\n",
       "    <tr>\n",
       "      <th>4</th>\n",
       "      <td>5.0</td>\n",
       "      <td>3.6</td>\n",
       "      <td>1.4</td>\n",
       "      <td>0.2</td>\n",
       "      <td>setosa</td>\n",
       "    </tr>\n",
       "  </tbody>\n",
       "</table>\n",
       "</div>"
      ],
      "text/plain": [
       "   sepal_length  sepal_width  petal_length  petal_width species\n",
       "0           5.1          3.5           1.4          0.2  setosa\n",
       "1           4.9          3.0           1.4          0.2  setosa\n",
       "2           4.7          3.2           1.3          0.2  setosa\n",
       "3           4.6          3.1           1.5          0.2  setosa\n",
       "4           5.0          3.6           1.4          0.2  setosa"
      ]
     },
     "execution_count": 3,
     "metadata": {},
     "output_type": "execute_result"
    }
   ],
   "source": [
    "import seaborn as sns\n",
    "import matplotlib.pyplot as plt\n",
    "\n",
    "# Load example dataset\n",
    "data = sns.load_dataset(\"iris\").head()\n",
    "\n",
    "# Create a scatter plot\n",
    "sns.scatterplot(data=data, x=\"sepal_length\", y=\"sepal_width\", hue=\"species\")\n",
    "\n",
    "# Show the plot\n",
    "plt.show()\n",
    "data"
   ]
  },
  {
   "cell_type": "code",
   "execution_count": null,
   "id": "8b1520be",
   "metadata": {},
   "outputs": [],
   "source": []
  }
 ],
 "metadata": {
  "kernelspec": {
   "display_name": "Python 3 (ipykernel)",
   "language": "python",
   "name": "python3"
  },
  "language_info": {
   "codemirror_mode": {
    "name": "ipython",
    "version": 3
   },
   "file_extension": ".py",
   "mimetype": "text/x-python",
   "name": "python",
   "nbconvert_exporter": "python",
   "pygments_lexer": "ipython3",
   "version": "3.11.5"
  }
 },
 "nbformat": 4,
 "nbformat_minor": 5
}
